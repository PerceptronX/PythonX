{
 "cells": [
  {
   "cell_type": "markdown",
   "id": "564809e5",
   "metadata": {},
   "source": [
    "## SET"
   ]
  },
  {
   "cell_type": "markdown",
   "id": "18eb19e0",
   "metadata": {},
   "source": [
    "-  A Python set is the collection of the unordered items. Each element in the set must be unique, immutable, and the sets remove the duplicate elements. Sets are mutable which means we can modify it after its creation.\n",
    "\n",
    "-  Unlike other collections in Python, there is no index attached to the elements of the set, i.e., we cannot directly access any element of the set by the index. However, we can print them all together, or we can get the list of elements by looping through the set."
   ]
  },
  {
   "cell_type": "markdown",
   "id": "7c9b3791",
   "metadata": {},
   "source": [
    "## Creating a set\n",
    "-  The set can be created by enclosing the comma-separated immutable items with the curly braces {}. Python also provides the set() method, which can be used to create the set by the passed sequence."
   ]
  },
  {
   "cell_type": "code",
   "execution_count": 1,
   "id": "62f6fecd",
   "metadata": {},
   "outputs": [
    {
     "name": "stdout",
     "output_type": "stream",
     "text": [
      "{'Friday', 'Saturday', 'Tuesday', 'Thursday', 'Sunday', 'Wednesday', 'Monday'}\n",
      "<class 'set'>\n",
      "looping through the set elements ... \n",
      "Friday\n",
      "Saturday\n",
      "Tuesday\n",
      "Thursday\n",
      "Sunday\n",
      "Wednesday\n",
      "Monday\n"
     ]
    }
   ],
   "source": [
    "Days = {\"Monday\", \"Tuesday\", \"Wednesday\", \"Thursday\", \"Friday\", \"Saturday\", \"Sunday\"}    \n",
    "print(Days)    \n",
    "print(type(Days))    \n",
    "print(\"looping through the set elements ... \")    \n",
    "for i in Days:    \n",
    "    print(i)    "
   ]
  },
  {
   "cell_type": "markdown",
   "id": "ec17eef7",
   "metadata": {},
   "source": [
    "##  Using set() method"
   ]
  },
  {
   "cell_type": "code",
   "execution_count": 2,
   "id": "d5019701",
   "metadata": {},
   "outputs": [
    {
     "name": "stdout",
     "output_type": "stream",
     "text": [
      "{'Wednesday', 'Monday', 'Friday', 'Saturday', 'Tuesday', 'Thursday', 'Sunday'}\n",
      "<class 'set'>\n",
      "looping through the set elements ... \n",
      "Wednesday\n",
      "Monday\n",
      "Friday\n",
      "Saturday\n",
      "Tuesday\n",
      "Thursday\n",
      "Sunday\n"
     ]
    }
   ],
   "source": [
    "Days = set([\"Monday\", \"Tuesday\", \"Wednesday\", \"Thursday\", \"Friday\", \"Saturday\", \"Sunday\"])    \n",
    "print(Days)    \n",
    "print(type(Days))    \n",
    "print(\"looping through the set elements ... \")    \n",
    "for i in Days:    \n",
    "    print(i)    "
   ]
  },
  {
   "cell_type": "markdown",
   "id": "645f6bb5",
   "metadata": {},
   "source": [
    "## Adding items to the set\n",
    "-  Python provides the add() method and update() method which can be used to add some particular item to the set. The add() method is used to add a single element whereas the update() method is used to add multiple elements to the set. Consider the following example."
   ]
  },
  {
   "cell_type": "markdown",
   "id": "6793f08a",
   "metadata": {},
   "source": [
    "## Using add() method"
   ]
  },
  {
   "cell_type": "code",
   "execution_count": 4,
   "id": "09567aa8",
   "metadata": {},
   "outputs": [
    {
     "name": "stdout",
     "output_type": "stream",
     "text": [
      "\n",
      "printing the original set ... \n",
      "{'March', 'May', 'June', 'April', 'February', 'January'}\n",
      "\n",
      "Adding other months to the set...\n",
      "\n",
      "Printing the modified set...\n",
      "{'March', 'May', 'July', 'June', 'April', 'February', 'January', 'August'}\n",
      "\n",
      "looping through the set elements ... \n",
      "March\n",
      "May\n",
      "July\n",
      "June\n",
      "April\n",
      "February\n",
      "January\n",
      "August\n"
     ]
    }
   ],
   "source": [
    "Months = set([\"January\",\"February\", \"March\", \"April\", \"May\", \"June\"])    \n",
    "print(\"\\nprinting the original set ... \")    \n",
    "print(Months)    \n",
    "print(\"\\nAdding other months to the set...\");    \n",
    "Months.add(\"July\");    \n",
    "Months.add (\"August\");    \n",
    "print(\"\\nPrinting the modified set...\");    \n",
    "print(Months)    \n",
    "print(\"\\nlooping through the set elements ... \")    \n",
    "for i in Months:    \n",
    "    print(i)    "
   ]
  },
  {
   "cell_type": "markdown",
   "id": "9795359e",
   "metadata": {},
   "source": [
    "## To add more than one item in the set, Python provides the update() method. "
   ]
  },
  {
   "cell_type": "markdown",
   "id": "667df9d2",
   "metadata": {},
   "source": [
    " ## update() function"
   ]
  },
  {
   "cell_type": "code",
   "execution_count": 5,
   "id": "66bd7f89",
   "metadata": {},
   "outputs": [
    {
     "name": "stdout",
     "output_type": "stream",
     "text": [
      "\n",
      "printing the original set ... \n",
      "{'March', 'May', 'June', 'April', 'February', 'January'}\n",
      "\n",
      "updating the original set ... \n",
      "\n",
      "printing the modified set ... \n",
      "{'March', 'May', 'July', 'June', 'April', 'October', 'September', 'February', 'January', 'August'}\n"
     ]
    }
   ],
   "source": [
    "Months = set([\"January\",\"February\", \"March\", \"April\", \"May\", \"June\"])    \n",
    "print(\"\\nprinting the original set ... \")    \n",
    "print(Months)    \n",
    "print(\"\\nupdating the original set ... \")    \n",
    "Months.update([\"July\",\"August\",\"September\",\"October\"]);    \n",
    "print(\"\\nprinting the modified set ... \")     \n",
    "print(Months);  "
   ]
  },
  {
   "cell_type": "markdown",
   "id": "8eb8280b",
   "metadata": {},
   "source": [
    "## Removing items from the set"
   ]
  },
  {
   "cell_type": "markdown",
   "id": "a5783229",
   "metadata": {},
   "source": [
    "-  Python provides the discard() method and remove() method which can be used to remove the items from the set. The difference between these function, using discard() function if the item does not exist in the set then the set remain unchanged whereas remove() method will through an error."
   ]
  },
  {
   "cell_type": "code",
   "execution_count": 6,
   "id": "3a2086be",
   "metadata": {},
   "outputs": [
    {
     "name": "stdout",
     "output_type": "stream",
     "text": [
      "\n",
      "printing the original set ... \n",
      "{'March', 'May', 'June', 'April', 'February', 'January'}\n",
      "\n",
      "Removing some months from the set...\n",
      "\n",
      "Printing the modified set...\n",
      "{'March', 'June', 'April', 'February'}\n",
      "\n",
      "looping through the set elements ... \n",
      "March\n",
      "June\n",
      "April\n",
      "February\n"
     ]
    }
   ],
   "source": [
    "months = set([\"January\",\"February\", \"March\", \"April\", \"May\", \"June\"])    \n",
    "print(\"\\nprinting the original set ... \")    \n",
    "print(months)    \n",
    "print(\"\\nRemoving some months from the set...\");    \n",
    "months.discard(\"January\");    \n",
    "months.discard(\"May\");    \n",
    "print(\"\\nPrinting the modified set...\");    \n",
    "print(months)    \n",
    "print(\"\\nlooping through the set elements ... \")    \n",
    "for i in months:    \n",
    "    print(i)    "
   ]
  },
  {
   "cell_type": "markdown",
   "id": "715f21ef",
   "metadata": {},
   "source": [
    "## Using remove() function"
   ]
  },
  {
   "cell_type": "code",
   "execution_count": 7,
   "id": "36f4a5be",
   "metadata": {},
   "outputs": [
    {
     "name": "stdout",
     "output_type": "stream",
     "text": [
      "\n",
      "printing the original set ... \n",
      "{'March', 'May', 'June', 'April', 'February', 'January'}\n",
      "\n",
      "Removing some months from the set...\n",
      "\n",
      "Printing the modified set...\n",
      "{'March', 'June', 'April', 'February'}\n"
     ]
    }
   ],
   "source": [
    "months = set([\"January\",\"February\", \"March\", \"April\", \"May\", \"June\"])    \n",
    "print(\"\\nprinting the original set ... \")    \n",
    "print(months)    \n",
    "print(\"\\nRemoving some months from the set...\");    \n",
    "months.remove(\"January\");    \n",
    "months.remove(\"May\");    \n",
    "print(\"\\nPrinting the modified set...\");    \n",
    "print(months)    "
   ]
  },
  {
   "cell_type": "code",
   "execution_count": null,
   "id": "956246b4",
   "metadata": {},
   "outputs": [],
   "source": []
  }
 ],
 "metadata": {
  "kernelspec": {
   "display_name": "Python 3 (ipykernel)",
   "language": "python",
   "name": "python3"
  },
  "language_info": {
   "codemirror_mode": {
    "name": "ipython",
    "version": 3
   },
   "file_extension": ".py",
   "mimetype": "text/x-python",
   "name": "python",
   "nbconvert_exporter": "python",
   "pygments_lexer": "ipython3",
   "version": "3.11.5"
  }
 },
 "nbformat": 4,
 "nbformat_minor": 5
}
